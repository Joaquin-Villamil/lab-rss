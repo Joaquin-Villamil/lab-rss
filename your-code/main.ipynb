{
 "cells": [
  {
   "cell_type": "markdown",
   "metadata": {},
   "source": [
    "# Working with RSS Feeds Lab\n",
    "\n",
    "Complete the following set of exercises to solidify your knowledge of parsing RSS feeds and extracting information from them."
   ]
  },
  {
   "cell_type": "code",
   "execution_count": 1,
   "metadata": {},
   "outputs": [],
   "source": [
    "import feedparser"
   ]
  },
  {
   "cell_type": "markdown",
   "metadata": {},
   "source": [
    "### 1. Use feedparser to parse the following RSS feed URL."
   ]
  },
  {
   "cell_type": "code",
   "execution_count": 3,
   "metadata": {},
   "outputs": [],
   "source": [
    "url = 'http://feeds.feedburner.com/oreilly/radar/atom'"
   ]
  },
  {
   "cell_type": "code",
   "execution_count": 7,
   "metadata": {},
   "outputs": [
    {
     "name": "stdout",
     "output_type": "stream",
     "text": [
      "{'tags': [{'term': 'tech', 'scheme': None, 'label': 'r/tech'}], 'updated': '2020-05-20T04:52:30+00:00', 'updated_parsed': time.struct_time(tm_year=2020, tm_mon=5, tm_mday=20, tm_hour=4, tm_min=52, tm_sec=30, tm_wday=2, tm_yday=141, tm_isdst=0), 'icon': 'https://www.redditstatic.com/icon.png/', 'id': 'https://www.reddit.com/r/tech.rss', 'guidislink': True, 'link': 'https://www.reddit.com/r/tech', 'links': [{'rel': 'self', 'href': 'https://www.reddit.com/r/tech.rss', 'type': 'application/atom+xml'}, {'rel': 'alternate', 'href': 'https://www.reddit.com/r/tech', 'type': 'text/html'}], 'logo': 'https://f.thumbs.redditmedia.com/kI7eGVG6kaObGTdM.png', 'subtitle': 'The goal of /r/tech is to provide a space dedicated to the intelligent discussion of innovations and changes to technology in our ever changing world. We focus on high quality news articles about technology and informative and thought provoking self posts.', 'subtitle_detail': {'type': 'text/plain', 'language': None, 'base': 'https://www.reddit.com/r/tech.rss', 'value': 'The goal of /r/tech is to provide a space dedicated to the intelligent discussion of innovations and changes to technology in our ever changing world. We focus on high quality news articles about technology and informative and thought provoking self posts.'}, 'title': '/r/tech: Technological innovations and changes.', 'title_detail': {'type': 'text/plain', 'language': None, 'base': 'https://www.reddit.com/r/tech.rss', 'value': '/r/tech: Technological innovations and changes.'}}\n"
     ]
    }
   ],
   "source": [
    "reddit = feedparser.parse('https://www.reddit.com/r/tech.rss')\n",
    "print(reddit['feed'])"
   ]
  },
  {
   "cell_type": "markdown",
   "metadata": {},
   "source": [
    "### 2. Obtain a list of components (keys) that are available for this feed."
   ]
  },
  {
   "cell_type": "code",
   "execution_count": 9,
   "metadata": {},
   "outputs": [
    {
     "data": {
      "text/plain": [
       "dict_keys(['feed', 'entries', 'bozo', 'headers', 'href', 'status', 'encoding', 'version', 'namespaces'])"
      ]
     },
     "execution_count": 9,
     "metadata": {},
     "output_type": "execute_result"
    }
   ],
   "source": [
    "reddit.keys()"
   ]
  },
  {
   "cell_type": "markdown",
   "metadata": {},
   "source": [
    "### 3. Obtain a list of components (keys) that are available for the *feed* component of this RSS feed."
   ]
  },
  {
   "cell_type": "code",
   "execution_count": 10,
   "metadata": {},
   "outputs": [
    {
     "data": {
      "text/plain": [
       "dict_keys(['tags', 'updated', 'updated_parsed', 'icon', 'id', 'guidislink', 'link', 'links', 'logo', 'subtitle', 'subtitle_detail', 'title', 'title_detail'])"
      ]
     },
     "execution_count": 10,
     "metadata": {},
     "output_type": "execute_result"
    }
   ],
   "source": [
    "reddit['feed'].keys()"
   ]
  },
  {
   "cell_type": "markdown",
   "metadata": {},
   "source": [
    "### 4. Extract and print the feed title, subtitle, author, and link."
   ]
  },
  {
   "cell_type": "code",
   "execution_count": 18,
   "metadata": {},
   "outputs": [
    {
     "name": "stdout",
     "output_type": "stream",
     "text": [
      "/r/tech: Technological innovations and changes.\n",
      "The goal of /r/tech is to provide a space dedicated to the intelligent discussion of innovations and changes to technology in our ever changing world. We focus on high quality news articles about technology and informative and thought provoking self posts.\n",
      "https://www.reddit.com/r/tech\n"
     ]
    }
   ],
   "source": [
    "print (reddit.feed.title)\n",
    "print (reddit.feed.subtitle)\n",
    "reddit.entries[0].author\n",
    "print (reddit.feed.link)"
   ]
  },
  {
   "cell_type": "markdown",
   "metadata": {},
   "source": [
    "### 5. Count the number of entries that are contained in this RSS feed."
   ]
  },
  {
   "cell_type": "code",
   "execution_count": 22,
   "metadata": {},
   "outputs": [
    {
     "data": {
      "text/plain": [
       "26"
      ]
     },
     "execution_count": 22,
     "metadata": {},
     "output_type": "execute_result"
    }
   ],
   "source": [
    "import pandas as pd\n",
    "\n",
    "df = pd.DataFrame(reddit.entries)\n",
    "df.count().title"
   ]
  },
  {
   "cell_type": "markdown",
   "metadata": {},
   "source": [
    "### 6. Obtain a list of components (keys) available for an entry.\n",
    "\n",
    "*Hint: Remember to index first before requesting the keys*"
   ]
  },
  {
   "cell_type": "code",
   "execution_count": 31,
   "metadata": {},
   "outputs": [
    {
     "name": "stdout",
     "output_type": "stream",
     "text": [
      "dict_keys(['authors', 'author_detail', 'href', 'author', 'tags', 'content', 'summary', 'id', 'guidislink', 'link', 'links', 'updated', 'updated_parsed', 'title', 'title_detail'])\n"
     ]
    }
   ],
   "source": [
    "listaentries = reddit.entries[0].keys()\n",
    "print(listaentries)"
   ]
  },
  {
   "cell_type": "markdown",
   "metadata": {},
   "source": [
    "### 7. Extract a list of entry titles."
   ]
  },
  {
   "cell_type": "code",
   "execution_count": 32,
   "metadata": {},
   "outputs": [
    {
     "name": "stdout",
     "output_type": "stream",
     "text": [
      "[\"/r/Tech now has it's own Discord server!\", 'The farms growing beneath our cities', 'Dogs Obey Commands Given by Social Robots', 'Dyson’s scrapped electric car: founder reveals what could have been', 'Digital Overload: Average Adult Will Spend 34 Years Of Their Life Staring At Screens', 'Microsoft to adapt its cloud software for healthcare industry', '3 Questions: The rapidly unfolding future of smart fabrics', 'Maybe it’s time to retire the idea of “going viral”', 'App implementation based on your submissions', 'weird noise in headphones', 'Free Email Signature Generator by Exclaimer', 'Self-disinfecting mask that works with Face ID in development', 'Corkscrew light promises higher optical-communication data rates', 'Uber closes 45 offices and lays off another 3,000 employees', 'The role of cloud tech in saving the endangered Tasmanian devil', \"IBM's new open-source tool helps developers make their apps more accessible\", 'Why new U.S. rules on selling chips to Huawei could be a ‘big blow’ for the Chinese tech giant', \"Tesla's next factory is going to be in Austin, Texas and it's going to happen quickly\", \"Google's Chrome Browser to Block Battery-Draining, Data-Guzzling Ads\", 'Is NASA Actually Working On a Warp Drive?', \"Everything OK with Microsoft? Windows giant admits it was 'on the wrong side of history' with regard to open source\", 'The System That Actually Worked: How the internet kept running even as society closed down around it', \"Tesla poised to reveal 'million-mile' battery as soon as this year, report says\", \"The biggest change in how you use your iPhone is coming -- and you're either going to hate it or not care\", 'Facebook new “Avatars” is their doppelganger 2.0', 'AI Won’t Fix Education, but it Can Help']\n"
     ]
    }
   ],
   "source": [
    "titles = [reddit.entries[i].title for i in range(len(reddit.entries))]\n",
    "print(titles)"
   ]
  },
  {
   "cell_type": "markdown",
   "metadata": {},
   "source": [
    "### 8. Calculate the percentage of \"Four short links\" entry titles."
   ]
  },
  {
   "cell_type": "code",
   "execution_count": 38,
   "metadata": {},
   "outputs": [
    {
     "data": {
      "text/html": [
       "<div>\n",
       "<style scoped>\n",
       "    .dataframe tbody tr th:only-of-type {\n",
       "        vertical-align: middle;\n",
       "    }\n",
       "\n",
       "    .dataframe tbody tr th {\n",
       "        vertical-align: top;\n",
       "    }\n",
       "\n",
       "    .dataframe thead th {\n",
       "        text-align: right;\n",
       "    }\n",
       "</style>\n",
       "<table border=\"1\" class=\"dataframe\">\n",
       "  <thead>\n",
       "    <tr style=\"text-align: right;\">\n",
       "      <th></th>\n",
       "      <th>author</th>\n",
       "      <th>entries</th>\n",
       "    </tr>\n",
       "  </thead>\n",
       "  <tbody>\n",
       "    <tr>\n",
       "      <th>13</th>\n",
       "      <td>/u/jsamwrites</td>\n",
       "      <td>4</td>\n",
       "    </tr>\n",
       "    <tr>\n",
       "      <th>11</th>\n",
       "      <td>/u/eugeneching</td>\n",
       "      <td>2</td>\n",
       "    </tr>\n",
       "    <tr>\n",
       "      <th>9</th>\n",
       "      <td>/u/eberkut</td>\n",
       "      <td>2</td>\n",
       "    </tr>\n",
       "    <tr>\n",
       "      <th>0</th>\n",
       "      <td>/u/CrazyGobler</td>\n",
       "      <td>1</td>\n",
       "    </tr>\n",
       "    <tr>\n",
       "      <th>19</th>\n",
       "      <td>/u/trevor25</td>\n",
       "      <td>1</td>\n",
       "    </tr>\n",
       "    <tr>\n",
       "      <th>18</th>\n",
       "      <td>/u/surfinThruLyfe</td>\n",
       "      <td>1</td>\n",
       "    </tr>\n",
       "    <tr>\n",
       "      <th>17</th>\n",
       "      <td>/u/snooshoe</td>\n",
       "      <td>1</td>\n",
       "    </tr>\n",
       "    <tr>\n",
       "      <th>16</th>\n",
       "      <td>/u/ryeshoes</td>\n",
       "      <td>1</td>\n",
       "    </tr>\n",
       "    <tr>\n",
       "      <th>15</th>\n",
       "      <td>/u/nasirbobby</td>\n",
       "      <td>1</td>\n",
       "    </tr>\n",
       "    <tr>\n",
       "      <th>14</th>\n",
       "      <td>/u/moist_pringles69</td>\n",
       "      <td>1</td>\n",
       "    </tr>\n",
       "    <tr>\n",
       "      <th>12</th>\n",
       "      <td>/u/ga-vu</td>\n",
       "      <td>1</td>\n",
       "    </tr>\n",
       "    <tr>\n",
       "      <th>10</th>\n",
       "      <td>/u/emptyaudience</td>\n",
       "      <td>1</td>\n",
       "    </tr>\n",
       "    <tr>\n",
       "      <th>1</th>\n",
       "      <td>/u/DataCenterGeek</td>\n",
       "      <td>1</td>\n",
       "    </tr>\n",
       "    <tr>\n",
       "      <th>8</th>\n",
       "      <td>/u/djwired</td>\n",
       "      <td>1</td>\n",
       "    </tr>\n",
       "    <tr>\n",
       "      <th>7</th>\n",
       "      <td>/u/bittubruh</td>\n",
       "      <td>1</td>\n",
       "    </tr>\n",
       "    <tr>\n",
       "      <th>6</th>\n",
       "      <td>/u/SeamusTheTerrible</td>\n",
       "      <td>1</td>\n",
       "    </tr>\n",
       "    <tr>\n",
       "      <th>5</th>\n",
       "      <td>/u/OriginalHoneyBadger</td>\n",
       "      <td>1</td>\n",
       "    </tr>\n",
       "    <tr>\n",
       "      <th>4</th>\n",
       "      <td>/u/MichaelTen</td>\n",
       "      <td>1</td>\n",
       "    </tr>\n",
       "    <tr>\n",
       "      <th>3</th>\n",
       "      <td>/u/FindLight2017</td>\n",
       "      <td>1</td>\n",
       "    </tr>\n",
       "    <tr>\n",
       "      <th>2</th>\n",
       "      <td>/u/DataPatata</td>\n",
       "      <td>1</td>\n",
       "    </tr>\n",
       "    <tr>\n",
       "      <th>20</th>\n",
       "      <td>/u/urbanrenaissance</td>\n",
       "      <td>1</td>\n",
       "    </tr>\n",
       "  </tbody>\n",
       "</table>\n",
       "</div>"
      ],
      "text/plain": [
       "                    author  entries\n",
       "13           /u/jsamwrites        4\n",
       "11          /u/eugeneching        2\n",
       "9               /u/eberkut        2\n",
       "0           /u/CrazyGobler        1\n",
       "19             /u/trevor25        1\n",
       "18       /u/surfinThruLyfe        1\n",
       "17             /u/snooshoe        1\n",
       "16             /u/ryeshoes        1\n",
       "15           /u/nasirbobby        1\n",
       "14     /u/moist_pringles69        1\n",
       "12                /u/ga-vu        1\n",
       "10        /u/emptyaudience        1\n",
       "1        /u/DataCenterGeek        1\n",
       "8               /u/djwired        1\n",
       "7             /u/bittubruh        1\n",
       "6     /u/SeamusTheTerrible        1\n",
       "5   /u/OriginalHoneyBadger        1\n",
       "4            /u/MichaelTen        1\n",
       "3         /u/FindLight2017        1\n",
       "2            /u/DataPatata        1\n",
       "20     /u/urbanrenaissance        1"
      ]
     },
     "execution_count": 38,
     "metadata": {},
     "output_type": "execute_result"
    }
   ],
   "source": [
    "authors = df.groupby('author', as_index=False).agg({'title':'count'})\n",
    "authors.columns = ['author', 'entries']\n",
    "authors.sort_values('entries', ascending=False)"
   ]
  },
  {
   "cell_type": "markdown",
   "metadata": {},
   "source": [
    "### 9. Create a Pandas data frame from the feed's entries."
   ]
  },
  {
   "cell_type": "code",
   "execution_count": null,
   "metadata": {},
   "outputs": [],
   "source": [
    "import pandas as pd"
   ]
  },
  {
   "cell_type": "code",
   "execution_count": 34,
   "metadata": {},
   "outputs": [
    {
     "data": {
      "text/html": [
       "<div>\n",
       "<style scoped>\n",
       "    .dataframe tbody tr th:only-of-type {\n",
       "        vertical-align: middle;\n",
       "    }\n",
       "\n",
       "    .dataframe tbody tr th {\n",
       "        vertical-align: top;\n",
       "    }\n",
       "\n",
       "    .dataframe thead th {\n",
       "        text-align: right;\n",
       "    }\n",
       "</style>\n",
       "<table border=\"1\" class=\"dataframe\">\n",
       "  <thead>\n",
       "    <tr style=\"text-align: right;\">\n",
       "      <th></th>\n",
       "      <th>authors</th>\n",
       "      <th>author_detail</th>\n",
       "      <th>href</th>\n",
       "      <th>author</th>\n",
       "      <th>tags</th>\n",
       "      <th>content</th>\n",
       "      <th>summary</th>\n",
       "      <th>id</th>\n",
       "      <th>guidislink</th>\n",
       "      <th>link</th>\n",
       "      <th>links</th>\n",
       "      <th>updated</th>\n",
       "      <th>updated_parsed</th>\n",
       "      <th>title</th>\n",
       "      <th>title_detail</th>\n",
       "    </tr>\n",
       "  </thead>\n",
       "  <tbody>\n",
       "    <tr>\n",
       "      <th>0</th>\n",
       "      <td>[{'name': '/u/OriginalHoneyBadger', 'href': 'h...</td>\n",
       "      <td>{'name': '/u/OriginalHoneyBadger', 'href': 'ht...</td>\n",
       "      <td>https://www.reddit.com/user/OriginalHoneyBadger</td>\n",
       "      <td>/u/OriginalHoneyBadger</td>\n",
       "      <td>[{'term': 'tech', 'scheme': None, 'label': 'r/...</td>\n",
       "      <td>[{'type': 'text/html', 'language': None, 'base...</td>\n",
       "      <td>&lt;!-- SC_OFF --&gt;&lt;div class=\"md\"&gt;&lt;p&gt;Hey guys!&lt;/p...</td>\n",
       "      <td>https://www.reddit.com/r/t3_7dx2ew</td>\n",
       "      <td>True</td>\n",
       "      <td>https://www.reddit.com/r/tech/comments/7dx2ew/...</td>\n",
       "      <td>[{'href': 'https://www.reddit.com/r/tech/comme...</td>\n",
       "      <td>2017-11-19T00:37:30+00:00</td>\n",
       "      <td>(2017, 11, 19, 0, 37, 30, 6, 323, 0)</td>\n",
       "      <td>/r/Tech now has it's own Discord server!</td>\n",
       "      <td>{'type': 'text/plain', 'language': None, 'base...</td>\n",
       "    </tr>\n",
       "    <tr>\n",
       "      <th>1</th>\n",
       "      <td>[{'name': '/u/urbanrenaissance', 'href': 'http...</td>\n",
       "      <td>{'name': '/u/urbanrenaissance', 'href': 'https...</td>\n",
       "      <td>https://www.reddit.com/user/urbanrenaissance</td>\n",
       "      <td>/u/urbanrenaissance</td>\n",
       "      <td>[{'term': 'tech', 'scheme': None, 'label': 'r/...</td>\n",
       "      <td>[{'type': 'text/html', 'language': None, 'base...</td>\n",
       "      <td>&amp;#32; submitted by &amp;#32; &lt;a href=\"https://www....</td>\n",
       "      <td>https://www.reddit.com/r/t3_gn0wub</td>\n",
       "      <td>True</td>\n",
       "      <td>https://www.reddit.com/r/tech/comments/gn0wub/...</td>\n",
       "      <td>[{'href': 'https://www.reddit.com/r/tech/comme...</td>\n",
       "      <td>2020-05-20T00:26:54+00:00</td>\n",
       "      <td>(2020, 5, 20, 0, 26, 54, 2, 141, 0)</td>\n",
       "      <td>The farms growing beneath our cities</td>\n",
       "      <td>{'type': 'text/plain', 'language': None, 'base...</td>\n",
       "    </tr>\n",
       "    <tr>\n",
       "      <th>2</th>\n",
       "      <td>[{'name': '/u/bittubruh', 'href': 'https://www...</td>\n",
       "      <td>{'name': '/u/bittubruh', 'href': 'https://www....</td>\n",
       "      <td>https://www.reddit.com/user/bittubruh</td>\n",
       "      <td>/u/bittubruh</td>\n",
       "      <td>[{'term': 'tech', 'scheme': None, 'label': 'r/...</td>\n",
       "      <td>[{'type': 'text/html', 'language': None, 'base...</td>\n",
       "      <td>&amp;#32; submitted by &amp;#32; &lt;a href=\"https://www....</td>\n",
       "      <td>https://www.reddit.com/r/t3_gmj2cz</td>\n",
       "      <td>True</td>\n",
       "      <td>https://www.reddit.com/r/tech/comments/gmj2cz/...</td>\n",
       "      <td>[{'href': 'https://www.reddit.com/r/tech/comme...</td>\n",
       "      <td>2020-05-19T06:18:22+00:00</td>\n",
       "      <td>(2020, 5, 19, 6, 18, 22, 1, 140, 0)</td>\n",
       "      <td>Dogs Obey Commands Given by Social Robots</td>\n",
       "      <td>{'type': 'text/plain', 'language': None, 'base...</td>\n",
       "    </tr>\n",
       "    <tr>\n",
       "      <th>3</th>\n",
       "      <td>[{'name': '/u/ryeshoes', 'href': 'https://www....</td>\n",
       "      <td>{'name': '/u/ryeshoes', 'href': 'https://www.r...</td>\n",
       "      <td>https://www.reddit.com/user/ryeshoes</td>\n",
       "      <td>/u/ryeshoes</td>\n",
       "      <td>[{'term': 'tech', 'scheme': None, 'label': 'r/...</td>\n",
       "      <td>[{'type': 'text/html', 'language': None, 'base...</td>\n",
       "      <td>&amp;#32; submitted by &amp;#32; &lt;a href=\"https://www....</td>\n",
       "      <td>https://www.reddit.com/r/t3_gmejb0</td>\n",
       "      <td>True</td>\n",
       "      <td>https://www.reddit.com/r/tech/comments/gmejb0/...</td>\n",
       "      <td>[{'href': 'https://www.reddit.com/r/tech/comme...</td>\n",
       "      <td>2020-05-19T01:04:40+00:00</td>\n",
       "      <td>(2020, 5, 19, 1, 4, 40, 1, 140, 0)</td>\n",
       "      <td>Dyson’s scrapped electric car: founder reveals...</td>\n",
       "      <td>{'type': 'text/plain', 'language': None, 'base...</td>\n",
       "    </tr>\n",
       "    <tr>\n",
       "      <th>4</th>\n",
       "      <td>[{'name': '/u/djwired', 'href': 'https://www.r...</td>\n",
       "      <td>{'name': '/u/djwired', 'href': 'https://www.re...</td>\n",
       "      <td>https://www.reddit.com/user/djwired</td>\n",
       "      <td>/u/djwired</td>\n",
       "      <td>[{'term': 'tech', 'scheme': None, 'label': 'r/...</td>\n",
       "      <td>[{'type': 'text/html', 'language': None, 'base...</td>\n",
       "      <td>&amp;#32; submitted by &amp;#32; &lt;a href=\"https://www....</td>\n",
       "      <td>https://www.reddit.com/r/t3_gm0o0q</td>\n",
       "      <td>True</td>\n",
       "      <td>https://www.reddit.com/r/tech/comments/gm0o0q/...</td>\n",
       "      <td>[{'href': 'https://www.reddit.com/r/tech/comme...</td>\n",
       "      <td>2020-05-18T12:37:44+00:00</td>\n",
       "      <td>(2020, 5, 18, 12, 37, 44, 0, 139, 0)</td>\n",
       "      <td>Digital Overload: Average Adult Will Spend 34 ...</td>\n",
       "      <td>{'type': 'text/plain', 'language': None, 'base...</td>\n",
       "    </tr>\n",
       "  </tbody>\n",
       "</table>\n",
       "</div>"
      ],
      "text/plain": [
       "                                             authors  \\\n",
       "0  [{'name': '/u/OriginalHoneyBadger', 'href': 'h...   \n",
       "1  [{'name': '/u/urbanrenaissance', 'href': 'http...   \n",
       "2  [{'name': '/u/bittubruh', 'href': 'https://www...   \n",
       "3  [{'name': '/u/ryeshoes', 'href': 'https://www....   \n",
       "4  [{'name': '/u/djwired', 'href': 'https://www.r...   \n",
       "\n",
       "                                       author_detail  \\\n",
       "0  {'name': '/u/OriginalHoneyBadger', 'href': 'ht...   \n",
       "1  {'name': '/u/urbanrenaissance', 'href': 'https...   \n",
       "2  {'name': '/u/bittubruh', 'href': 'https://www....   \n",
       "3  {'name': '/u/ryeshoes', 'href': 'https://www.r...   \n",
       "4  {'name': '/u/djwired', 'href': 'https://www.re...   \n",
       "\n",
       "                                              href                  author  \\\n",
       "0  https://www.reddit.com/user/OriginalHoneyBadger  /u/OriginalHoneyBadger   \n",
       "1     https://www.reddit.com/user/urbanrenaissance     /u/urbanrenaissance   \n",
       "2            https://www.reddit.com/user/bittubruh            /u/bittubruh   \n",
       "3             https://www.reddit.com/user/ryeshoes             /u/ryeshoes   \n",
       "4              https://www.reddit.com/user/djwired              /u/djwired   \n",
       "\n",
       "                                                tags  \\\n",
       "0  [{'term': 'tech', 'scheme': None, 'label': 'r/...   \n",
       "1  [{'term': 'tech', 'scheme': None, 'label': 'r/...   \n",
       "2  [{'term': 'tech', 'scheme': None, 'label': 'r/...   \n",
       "3  [{'term': 'tech', 'scheme': None, 'label': 'r/...   \n",
       "4  [{'term': 'tech', 'scheme': None, 'label': 'r/...   \n",
       "\n",
       "                                             content  \\\n",
       "0  [{'type': 'text/html', 'language': None, 'base...   \n",
       "1  [{'type': 'text/html', 'language': None, 'base...   \n",
       "2  [{'type': 'text/html', 'language': None, 'base...   \n",
       "3  [{'type': 'text/html', 'language': None, 'base...   \n",
       "4  [{'type': 'text/html', 'language': None, 'base...   \n",
       "\n",
       "                                             summary  \\\n",
       "0  <!-- SC_OFF --><div class=\"md\"><p>Hey guys!</p...   \n",
       "1  &#32; submitted by &#32; <a href=\"https://www....   \n",
       "2  &#32; submitted by &#32; <a href=\"https://www....   \n",
       "3  &#32; submitted by &#32; <a href=\"https://www....   \n",
       "4  &#32; submitted by &#32; <a href=\"https://www....   \n",
       "\n",
       "                                   id  guidislink  \\\n",
       "0  https://www.reddit.com/r/t3_7dx2ew        True   \n",
       "1  https://www.reddit.com/r/t3_gn0wub        True   \n",
       "2  https://www.reddit.com/r/t3_gmj2cz        True   \n",
       "3  https://www.reddit.com/r/t3_gmejb0        True   \n",
       "4  https://www.reddit.com/r/t3_gm0o0q        True   \n",
       "\n",
       "                                                link  \\\n",
       "0  https://www.reddit.com/r/tech/comments/7dx2ew/...   \n",
       "1  https://www.reddit.com/r/tech/comments/gn0wub/...   \n",
       "2  https://www.reddit.com/r/tech/comments/gmj2cz/...   \n",
       "3  https://www.reddit.com/r/tech/comments/gmejb0/...   \n",
       "4  https://www.reddit.com/r/tech/comments/gm0o0q/...   \n",
       "\n",
       "                                               links  \\\n",
       "0  [{'href': 'https://www.reddit.com/r/tech/comme...   \n",
       "1  [{'href': 'https://www.reddit.com/r/tech/comme...   \n",
       "2  [{'href': 'https://www.reddit.com/r/tech/comme...   \n",
       "3  [{'href': 'https://www.reddit.com/r/tech/comme...   \n",
       "4  [{'href': 'https://www.reddit.com/r/tech/comme...   \n",
       "\n",
       "                     updated                        updated_parsed  \\\n",
       "0  2017-11-19T00:37:30+00:00  (2017, 11, 19, 0, 37, 30, 6, 323, 0)   \n",
       "1  2020-05-20T00:26:54+00:00   (2020, 5, 20, 0, 26, 54, 2, 141, 0)   \n",
       "2  2020-05-19T06:18:22+00:00   (2020, 5, 19, 6, 18, 22, 1, 140, 0)   \n",
       "3  2020-05-19T01:04:40+00:00    (2020, 5, 19, 1, 4, 40, 1, 140, 0)   \n",
       "4  2020-05-18T12:37:44+00:00  (2020, 5, 18, 12, 37, 44, 0, 139, 0)   \n",
       "\n",
       "                                               title  \\\n",
       "0           /r/Tech now has it's own Discord server!   \n",
       "1               The farms growing beneath our cities   \n",
       "2          Dogs Obey Commands Given by Social Robots   \n",
       "3  Dyson’s scrapped electric car: founder reveals...   \n",
       "4  Digital Overload: Average Adult Will Spend 34 ...   \n",
       "\n",
       "                                        title_detail  \n",
       "0  {'type': 'text/plain', 'language': None, 'base...  \n",
       "1  {'type': 'text/plain', 'language': None, 'base...  \n",
       "2  {'type': 'text/plain', 'language': None, 'base...  \n",
       "3  {'type': 'text/plain', 'language': None, 'base...  \n",
       "4  {'type': 'text/plain', 'language': None, 'base...  "
      ]
     },
     "execution_count": 34,
     "metadata": {},
     "output_type": "execute_result"
    }
   ],
   "source": [
    "df.head()"
   ]
  },
  {
   "cell_type": "markdown",
   "metadata": {},
   "source": [
    "### 10. Count the number of entries per author and sort them in descending order."
   ]
  },
  {
   "cell_type": "code",
   "execution_count": 41,
   "metadata": {},
   "outputs": [
    {
     "data": {
      "text/html": [
       "<div>\n",
       "<style scoped>\n",
       "    .dataframe tbody tr th:only-of-type {\n",
       "        vertical-align: middle;\n",
       "    }\n",
       "\n",
       "    .dataframe tbody tr th {\n",
       "        vertical-align: top;\n",
       "    }\n",
       "\n",
       "    .dataframe thead th {\n",
       "        text-align: right;\n",
       "    }\n",
       "</style>\n",
       "<table border=\"1\" class=\"dataframe\">\n",
       "  <thead>\n",
       "    <tr style=\"text-align: right;\">\n",
       "      <th></th>\n",
       "      <th>author</th>\n",
       "      <th>entries</th>\n",
       "    </tr>\n",
       "  </thead>\n",
       "  <tbody>\n",
       "    <tr>\n",
       "      <th>13</th>\n",
       "      <td>/u/jsamwrites</td>\n",
       "      <td>4</td>\n",
       "    </tr>\n",
       "    <tr>\n",
       "      <th>11</th>\n",
       "      <td>/u/eugeneching</td>\n",
       "      <td>2</td>\n",
       "    </tr>\n",
       "    <tr>\n",
       "      <th>9</th>\n",
       "      <td>/u/eberkut</td>\n",
       "      <td>2</td>\n",
       "    </tr>\n",
       "    <tr>\n",
       "      <th>0</th>\n",
       "      <td>/u/CrazyGobler</td>\n",
       "      <td>1</td>\n",
       "    </tr>\n",
       "    <tr>\n",
       "      <th>19</th>\n",
       "      <td>/u/trevor25</td>\n",
       "      <td>1</td>\n",
       "    </tr>\n",
       "    <tr>\n",
       "      <th>18</th>\n",
       "      <td>/u/surfinThruLyfe</td>\n",
       "      <td>1</td>\n",
       "    </tr>\n",
       "    <tr>\n",
       "      <th>17</th>\n",
       "      <td>/u/snooshoe</td>\n",
       "      <td>1</td>\n",
       "    </tr>\n",
       "    <tr>\n",
       "      <th>16</th>\n",
       "      <td>/u/ryeshoes</td>\n",
       "      <td>1</td>\n",
       "    </tr>\n",
       "    <tr>\n",
       "      <th>15</th>\n",
       "      <td>/u/nasirbobby</td>\n",
       "      <td>1</td>\n",
       "    </tr>\n",
       "    <tr>\n",
       "      <th>14</th>\n",
       "      <td>/u/moist_pringles69</td>\n",
       "      <td>1</td>\n",
       "    </tr>\n",
       "    <tr>\n",
       "      <th>12</th>\n",
       "      <td>/u/ga-vu</td>\n",
       "      <td>1</td>\n",
       "    </tr>\n",
       "    <tr>\n",
       "      <th>10</th>\n",
       "      <td>/u/emptyaudience</td>\n",
       "      <td>1</td>\n",
       "    </tr>\n",
       "    <tr>\n",
       "      <th>1</th>\n",
       "      <td>/u/DataCenterGeek</td>\n",
       "      <td>1</td>\n",
       "    </tr>\n",
       "    <tr>\n",
       "      <th>8</th>\n",
       "      <td>/u/djwired</td>\n",
       "      <td>1</td>\n",
       "    </tr>\n",
       "    <tr>\n",
       "      <th>7</th>\n",
       "      <td>/u/bittubruh</td>\n",
       "      <td>1</td>\n",
       "    </tr>\n",
       "    <tr>\n",
       "      <th>6</th>\n",
       "      <td>/u/SeamusTheTerrible</td>\n",
       "      <td>1</td>\n",
       "    </tr>\n",
       "    <tr>\n",
       "      <th>5</th>\n",
       "      <td>/u/OriginalHoneyBadger</td>\n",
       "      <td>1</td>\n",
       "    </tr>\n",
       "    <tr>\n",
       "      <th>4</th>\n",
       "      <td>/u/MichaelTen</td>\n",
       "      <td>1</td>\n",
       "    </tr>\n",
       "    <tr>\n",
       "      <th>3</th>\n",
       "      <td>/u/FindLight2017</td>\n",
       "      <td>1</td>\n",
       "    </tr>\n",
       "    <tr>\n",
       "      <th>2</th>\n",
       "      <td>/u/DataPatata</td>\n",
       "      <td>1</td>\n",
       "    </tr>\n",
       "    <tr>\n",
       "      <th>20</th>\n",
       "      <td>/u/urbanrenaissance</td>\n",
       "      <td>1</td>\n",
       "    </tr>\n",
       "  </tbody>\n",
       "</table>\n",
       "</div>"
      ],
      "text/plain": [
       "                    author  entries\n",
       "13           /u/jsamwrites        4\n",
       "11          /u/eugeneching        2\n",
       "9               /u/eberkut        2\n",
       "0           /u/CrazyGobler        1\n",
       "19             /u/trevor25        1\n",
       "18       /u/surfinThruLyfe        1\n",
       "17             /u/snooshoe        1\n",
       "16             /u/ryeshoes        1\n",
       "15           /u/nasirbobby        1\n",
       "14     /u/moist_pringles69        1\n",
       "12                /u/ga-vu        1\n",
       "10        /u/emptyaudience        1\n",
       "1        /u/DataCenterGeek        1\n",
       "8               /u/djwired        1\n",
       "7             /u/bittubruh        1\n",
       "6     /u/SeamusTheTerrible        1\n",
       "5   /u/OriginalHoneyBadger        1\n",
       "4            /u/MichaelTen        1\n",
       "3         /u/FindLight2017        1\n",
       "2            /u/DataPatata        1\n",
       "20     /u/urbanrenaissance        1"
      ]
     },
     "execution_count": 41,
     "metadata": {},
     "output_type": "execute_result"
    }
   ],
   "source": [
    "authors = df.groupby('author', as_index=False).agg({'title':'count'})\n",
    "authors.columns = ['author', 'entries']\n",
    "authors.sort_values('entries', ascending=False)"
   ]
  },
  {
   "cell_type": "markdown",
   "metadata": {},
   "source": [
    "### 11. Add a new column to the data frame that contains the length (number of characters) of each entry title. Return a data frame that contains the title, author, and title length of each entry in descending order (longest title length at the top)."
   ]
  },
  {
   "cell_type": "code",
   "execution_count": 42,
   "metadata": {},
   "outputs": [
    {
     "data": {
      "text/html": [
       "<div>\n",
       "<style scoped>\n",
       "    .dataframe tbody tr th:only-of-type {\n",
       "        vertical-align: middle;\n",
       "    }\n",
       "\n",
       "    .dataframe tbody tr th {\n",
       "        vertical-align: top;\n",
       "    }\n",
       "\n",
       "    .dataframe thead th {\n",
       "        text-align: right;\n",
       "    }\n",
       "</style>\n",
       "<table border=\"1\" class=\"dataframe\">\n",
       "  <thead>\n",
       "    <tr style=\"text-align: right;\">\n",
       "      <th></th>\n",
       "      <th>title</th>\n",
       "      <th>author</th>\n",
       "      <th>title_length</th>\n",
       "    </tr>\n",
       "  </thead>\n",
       "  <tbody>\n",
       "    <tr>\n",
       "      <th>20</th>\n",
       "      <td>Everything OK with Microsoft? Windows giant ad...</td>\n",
       "      <td>/u/jsamwrites</td>\n",
       "      <td>115</td>\n",
       "    </tr>\n",
       "    <tr>\n",
       "      <th>23</th>\n",
       "      <td>The biggest change in how you use your iPhone ...</td>\n",
       "      <td>/u/eugeneching</td>\n",
       "      <td>105</td>\n",
       "    </tr>\n",
       "    <tr>\n",
       "      <th>21</th>\n",
       "      <td>The System That Actually Worked: How the inter...</td>\n",
       "      <td>/u/eberkut</td>\n",
       "      <td>100</td>\n",
       "    </tr>\n",
       "    <tr>\n",
       "      <th>16</th>\n",
       "      <td>Why new U.S. rules on selling chips to Huawei ...</td>\n",
       "      <td>/u/snooshoe</td>\n",
       "      <td>94</td>\n",
       "    </tr>\n",
       "    <tr>\n",
       "      <th>17</th>\n",
       "      <td>Tesla's next factory is going to be in Austin,...</td>\n",
       "      <td>/u/MichaelTen</td>\n",
       "      <td>85</td>\n",
       "    </tr>\n",
       "  </tbody>\n",
       "</table>\n",
       "</div>"
      ],
      "text/plain": [
       "                                                title          author  \\\n",
       "20  Everything OK with Microsoft? Windows giant ad...   /u/jsamwrites   \n",
       "23  The biggest change in how you use your iPhone ...  /u/eugeneching   \n",
       "21  The System That Actually Worked: How the inter...      /u/eberkut   \n",
       "16  Why new U.S. rules on selling chips to Huawei ...     /u/snooshoe   \n",
       "17  Tesla's next factory is going to be in Austin,...   /u/MichaelTen   \n",
       "\n",
       "    title_length  \n",
       "20           115  \n",
       "23           105  \n",
       "21           100  \n",
       "16            94  \n",
       "17            85  "
      ]
     },
     "execution_count": 42,
     "metadata": {},
     "output_type": "execute_result"
    }
   ],
   "source": [
    "df['title_length'] = df['title'].apply(len)\n",
    "df[['title', 'author', 'title_length']].sort_values('title_length', ascending=False).head()"
   ]
  },
  {
   "cell_type": "markdown",
   "metadata": {},
   "source": [
    "### 12. Create a list of entry titles whose summary includes the phrase \"machine learning.\""
   ]
  },
  {
   "cell_type": "code",
   "execution_count": 61,
   "metadata": {},
   "outputs": [
    {
     "data": {
      "text/plain": [
       "(Empty DataFrame\n",
       " Columns: [authors, author_detail, href, author, tags, content, summary, id, guidislink, link, links, updated, updated_parsed, title, title_detail, title_length]\n",
       " Index: [],\n",
       "                                                 title  \\\n",
       " 0            /r/Tech now has it's own Discord server!   \n",
       " 1                The farms growing beneath our cities   \n",
       " 2           Dogs Obey Commands Given by Social Robots   \n",
       " 3   Dyson’s scrapped electric car: founder reveals...   \n",
       " 4   Digital Overload: Average Adult Will Spend 34 ...   \n",
       " 5   Microsoft to adapt its cloud software for heal...   \n",
       " 6   3 Questions: The rapidly unfolding future of s...   \n",
       " 7   Maybe it’s time to retire the idea of “going v...   \n",
       " 8        App implementation based on your submissions   \n",
       " 9                           weird noise in headphones   \n",
       " 10        Free Email Signature Generator by Exclaimer   \n",
       " 11  Self-disinfecting mask that works with Face ID...   \n",
       " 12  Corkscrew light promises higher optical-commun...   \n",
       " 13  Uber closes 45 offices and lays off another 3,...   \n",
       " 14  The role of cloud tech in saving the endangere...   \n",
       " 15  IBM's new open-source tool helps developers ma...   \n",
       " 16  Why new U.S. rules on selling chips to Huawei ...   \n",
       " 17  Tesla's next factory is going to be in Austin,...   \n",
       " 18  Google's Chrome Browser to Block Battery-Drain...   \n",
       " 19          Is NASA Actually Working On a Warp Drive?   \n",
       " 20  Everything OK with Microsoft? Windows giant ad...   \n",
       " 21  The System That Actually Worked: How the inter...   \n",
       " 22  Tesla poised to reveal 'million-mile' battery ...   \n",
       " 23  The biggest change in how you use your iPhone ...   \n",
       " 24   Facebook new “Avatars” is their doppelganger 2.0   \n",
       " 25            AI Won’t Fix Education, but it Can Help   \n",
       " \n",
       "                                               summary  \n",
       " 0   <!-- SC_OFF --><div class=\"md\"><p>Hey guys!</p...  \n",
       " 1   &#32; submitted by &#32; <a href=\"https://www....  \n",
       " 2   &#32; submitted by &#32; <a href=\"https://www....  \n",
       " 3   &#32; submitted by &#32; <a href=\"https://www....  \n",
       " 4   &#32; submitted by &#32; <a href=\"https://www....  \n",
       " 5   <!-- SC_OFF --><div class=\"md\"><p>While Micros...  \n",
       " 6   &#32; submitted by &#32; <a href=\"https://www....  \n",
       " 7   &#32; submitted by &#32; <a href=\"https://www....  \n",
       " 8   <!-- SC_OFF --><div class=\"md\"><p>Hello fellow...  \n",
       " 9   <!-- SC_OFF --><div class=\"md\"><p>anybody get ...  \n",
       " 10  &#32; submitted by &#32; <a href=\"https://www....  \n",
       " 11  &#32; submitted by &#32; <a href=\"https://www....  \n",
       " 12  &#32; submitted by &#32; <a href=\"https://www....  \n",
       " 13  &#32; submitted by &#32; <a href=\"https://www....  \n",
       " 14  &#32; submitted by &#32; <a href=\"https://www....  \n",
       " 15  &#32; submitted by &#32; <a href=\"https://www....  \n",
       " 16  &#32; submitted by &#32; <a href=\"https://www....  \n",
       " 17  &#32; submitted by &#32; <a href=\"https://www....  \n",
       " 18  &#32; submitted by &#32; <a href=\"https://www....  \n",
       " 19  &#32; submitted by &#32; <a href=\"https://www....  \n",
       " 20  &#32; submitted by &#32; <a href=\"https://www....  \n",
       " 21  &#32; submitted by &#32; <a href=\"https://www....  \n",
       " 22  &#32; submitted by &#32; <a href=\"https://www....  \n",
       " 23  &#32; submitted by &#32; <a href=\"https://www....  \n",
       " 24  &#32; submitted by &#32; <a href=\"https://www....  \n",
       " 25  &#32; submitted by &#32; <a href=\"https://www....  )"
      ]
     },
     "execution_count": 61,
     "metadata": {},
     "output_type": "execute_result"
    }
   ],
   "source": [
    "summary = df[df['summary'].str.contains(pat = 'machine learning')],df[['title', 'summary']]\n",
    "summary[0:]"
   ]
  }
 ],
 "metadata": {
  "kernelspec": {
   "display_name": "Python 3",
   "language": "python",
   "name": "python3"
  },
  "language_info": {
   "codemirror_mode": {
    "name": "ipython",
    "version": 3
   },
   "file_extension": ".py",
   "mimetype": "text/x-python",
   "name": "python",
   "nbconvert_exporter": "python",
   "pygments_lexer": "ipython3",
   "version": "3.7.6"
  }
 },
 "nbformat": 4,
 "nbformat_minor": 4
}
